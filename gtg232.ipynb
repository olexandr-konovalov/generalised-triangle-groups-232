{
 "cells": [
  {
   "cell_type": "markdown",
   "id": "floral-credits",
   "metadata": {},
   "source": [
    "# Generalised triangle groups of type $(2,3,2)$ with no cyclic essential representations"
   ]
  },
  {
   "cell_type": "markdown",
   "id": "promotional-torture",
   "metadata": {},
   "source": [
    "This notebooks contains supplementary code for the [arXiv:1612.00242 preprint](https://arxiv.org/abs/1612.00242) Generalised triangle groups of type (2,3,2) with no cyclic essential representations by James Howie and Olexandr Konovalov."
   ]
  },
  {
   "cell_type": "markdown",
   "id": "7c3be378",
   "metadata": {},
   "source": [
    "## GAP calculations in the odd length case"
   ]
  },
  {
   "cell_type": "markdown",
   "id": "b5b22eb1",
   "metadata": {},
   "source": [
    "### Verification that $G_{11}$ is abelian-by-finite"
   ]
  },
  {
   "cell_type": "code",
   "execution_count": 7,
   "id": "velvet-sperm",
   "metadata": {},
   "outputs": [
    {
     "data": {
      "text/plain": [
       "<presentation with 4 gens and 11 rels of total length 48>"
      ]
     },
     "execution_count": 7,
     "metadata": {
      "text/plain": ""
     },
     "output_type": "execute_result"
    }
   ],
   "source": [
    "F:=FreeGroup([\"x\",\"y\"]);; x:=F.1;; y:=F.2;;\n",
    "W:=(x*y)^2*(x*y^2)^3;;\n",
    "G:=F/[x^2,y^3,W^2];;\n",
    "H:=Subgroup(G,[(G.1*G.2)^4]);;\n",
    "P:=PresentationNormalClosure(G,H);"
   ]
  },
  {
   "cell_type": "code",
   "execution_count": 8,
   "id": "9ac1eeeb",
   "metadata": {},
   "outputs": [
    {
     "name": "stdout",
     "output_type": "stream",
     "text": [
      "#I  there are 3 generators and 3 relators of total length 14\n",
      "#I  there are 3 generators and 3 relators of total length 12\n"
     ]
    }
   ],
   "source": [
    "SimplifyPresentation(P);"
   ]
  },
  {
   "cell_type": "code",
   "execution_count": 9,
   "id": "8067aab2",
   "metadata": {},
   "outputs": [
    {
     "name": "stdout",
     "output_type": "stream",
     "text": [
      "#I  generators: [ _x1, _x2, _x3 ]\n",
      "#I  relators:\n",
      "#I  1.  4  [ 1, 2, -1, -2 ]\n",
      "#I  2.  4  [ 1, 3, -1, -3 ]\n",
      "#I  3.  4  [ 2, 3, -2, -3 ]\n"
     ]
    }
   ],
   "source": [
    "TzPrint(P);"
   ]
  },
  {
   "cell_type": "markdown",
   "id": "ce2193bd",
   "metadata": {},
   "source": [
    "The kernel of a representation $G_{11}\\to S_4$ is free abelian of rank $3$."
   ]
  },
  {
   "cell_type": "markdown",
   "id": "5bad4e22",
   "metadata": {},
   "source": [
    "### Verification that $G_3$ is large"
   ]
  },
  {
   "cell_type": "code",
   "execution_count": 16,
   "id": "1695624f",
   "metadata": {},
   "outputs": [
    {
     "data": {
      "text/plain": [
       "<presentation with 10 gens and 29 rels of total length 196>"
      ]
     },
     "execution_count": 16,
     "metadata": {
      "text/plain": ""
     },
     "output_type": "execute_result"
    }
   ],
   "source": [
    "F:=FreeGroup([\"x\",\"y\"]);; x:=F.1;; y:=F.2;;\n",
    "W:=(x*y)^3*x*y^2*x*y*(x*y^2)^2*x*y*x*y^2;;\n",
    "G:=F/[x^2,y^3,W^2];;\n",
    "H:=Subgroup(G,[(G.1*G.2)^5]);;\n",
    "P:=PresentationNormalClosure(G,H);"
   ]
  },
  {
   "cell_type": "code",
   "execution_count": 17,
   "id": "425e7e96",
   "metadata": {},
   "outputs": [
    {
     "name": "stdout",
     "output_type": "stream",
     "text": [
      "#I  there are 7 generators and 24 relators of total length 236\n",
      "#I  there are 7 generators and 24 relators of total length 214\n"
     ]
    }
   ],
   "source": [
    "SimplifyPresentation(P);"
   ]
  },
  {
   "cell_type": "code",
   "execution_count": 21,
   "id": "44c80847",
   "metadata": {},
   "outputs": [],
   "source": [
    "gg:=GeneratorsOfPresentation(P);;\n",
    "AddRelator(P,gg[7]);\n",
    "AddRelator(P,gg[4]*gg[6]^-1);\n",
    "for j in [1,2,3,5] do \n",
    "    AddRelator(P,gg[1]*gg[j]); \n",
    "od;"
   ]
  },
  {
   "cell_type": "code",
   "execution_count": 22,
   "id": "2a34a4f1",
   "metadata": {},
   "outputs": [
    {
     "name": "stdout",
     "output_type": "stream",
     "text": [
      "#I  there are 2 generators and 1 relator of total length 2\n"
     ]
    }
   ],
   "source": [
    "SimplifyPresentation(P);"
   ]
  },
  {
   "cell_type": "code",
   "execution_count": 23,
   "id": "908bb995",
   "metadata": {},
   "outputs": [
    {
     "name": "stdout",
     "output_type": "stream",
     "text": [
      "#I  generators: [ _x1, _x5 ]\n",
      "#I  relators:\n",
      "#I  1.  2  [ 1, 1 ]\n"
     ]
    }
   ],
   "source": [
    "TzPrint(P);"
   ]
  },
  {
   "cell_type": "markdown",
   "id": "f465b6c2",
   "metadata": {},
   "source": [
    "The kernel of a representation $G_3\\to A_5$ has the large group $\\mathbb Z_2\\ast \\mathbb Z$ as a homomorphic image."
   ]
  }
 ],
 "metadata": {
  "kernelspec": {
   "display_name": "GAP 4",
   "language": "gap",
   "name": "gap-4"
  },
  "language_info": {
   "codemirror_mode": "gap",
   "file_extension": ".g",
   "mimetype": "text/x-gap",
   "name": "GAP 4",
   "nbconvert_exporter": "",
   "pygments_lexer": "gap",
   "version": "4.12.2"
  }
 },
 "nbformat": 4,
 "nbformat_minor": 5
}
