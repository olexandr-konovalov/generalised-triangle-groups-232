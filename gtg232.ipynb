{
 "cells": [
  {
   "cell_type": "markdown",
   "id": "floral-credits",
   "metadata": {},
   "source": [
    "# Generalised triangle groups of type $(2,3,2)$ with no cyclic essential representations"
   ]
  },
  {
   "cell_type": "markdown",
   "id": "promotional-torture",
   "metadata": {},
   "source": [
    "This notebooks contains supplementary code for the [arXiv:1612.00242 preprint](https://arxiv.org/abs/1612.00242) Generalised triangle groups of type (2,3,2) with no cyclic essential representations by James Howie and Olexandr Konovalov."
   ]
  },
  {
   "cell_type": "markdown",
   "id": "7c3be378",
   "metadata": {},
   "source": [
    "## GAP calculations in the odd length case"
   ]
  },
  {
   "cell_type": "markdown",
   "id": "b5b22eb1",
   "metadata": {},
   "source": [
    "### Verification that $G_{11}$ is abelian-by-finite"
   ]
  },
  {
   "cell_type": "code",
   "execution_count": 7,
   "id": "velvet-sperm",
   "metadata": {},
   "outputs": [
    {
     "data": {
      "text/plain": [
       "<presentation with 4 gens and 11 rels of total length 48>"
      ]
     },
     "execution_count": 7,
     "metadata": {
      "text/plain": ""
     },
     "output_type": "execute_result"
    }
   ],
   "source": [
    "F:=FreeGroup([\"x\",\"y\"]);; x:=F.1;; y:=F.2;;\n",
    "W:=(x*y)^2*(x*y^2)^3;;\n",
    "G:=F/[x^2,y^3,W^2];;\n",
    "H:=Subgroup(G,[(G.1*G.2)^4]);;\n",
    "P:=PresentationNormalClosure(G,H);"
   ]
  },
  {
   "cell_type": "code",
   "execution_count": 8,
   "id": "9ac1eeeb",
   "metadata": {},
   "outputs": [
    {
     "name": "stdout",
     "output_type": "stream",
     "text": [
      "#I  there are 3 generators and 3 relators of total length 14\n",
      "#I  there are 3 generators and 3 relators of total length 12\n"
     ]
    }
   ],
   "source": [
    "SimplifyPresentation(P);"
   ]
  },
  {
   "cell_type": "code",
   "execution_count": 9,
   "id": "8067aab2",
   "metadata": {},
   "outputs": [
    {
     "name": "stdout",
     "output_type": "stream",
     "text": [
      "#I  generators: [ _x1, _x2, _x3 ]\n",
      "#I  relators:\n",
      "#I  1.  4  [ 1, 2, -1, -2 ]\n",
      "#I  2.  4  [ 1, 3, -1, -3 ]\n",
      "#I  3.  4  [ 2, 3, -2, -3 ]\n"
     ]
    }
   ],
   "source": [
    "TzPrint(P);"
   ]
  },
  {
   "cell_type": "markdown",
   "id": "ce2193bd",
   "metadata": {},
   "source": [
    "The kernel of a representation $G_{11}\\to S_4$ is free abelian of rank $3$."
   ]
  },
  {
   "cell_type": "markdown",
   "id": "5bad4e22",
   "metadata": {},
   "source": [
    "### Verification that $G_3$ is large"
   ]
  },
  {
   "cell_type": "code",
   "execution_count": 16,
   "id": "1695624f",
   "metadata": {},
   "outputs": [
    {
     "data": {
      "text/plain": [
       "<presentation with 10 gens and 29 rels of total length 196>"
      ]
     },
     "execution_count": 16,
     "metadata": {
      "text/plain": ""
     },
     "output_type": "execute_result"
    }
   ],
   "source": [
    "F:=FreeGroup([\"x\",\"y\"]);; x:=F.1;; y:=F.2;;\n",
    "W:=(x*y)^3*x*y^2*x*y*(x*y^2)^2*x*y*x*y^2;;\n",
    "G:=F/[x^2,y^3,W^2];;\n",
    "H:=Subgroup(G,[(G.1*G.2)^5]);;\n",
    "P:=PresentationNormalClosure(G,H);"
   ]
  },
  {
   "cell_type": "code",
   "execution_count": 17,
   "id": "425e7e96",
   "metadata": {},
   "outputs": [
    {
     "name": "stdout",
     "output_type": "stream",
     "text": [
      "#I  there are 7 generators and 24 relators of total length 236\n",
      "#I  there are 7 generators and 24 relators of total length 214\n"
     ]
    }
   ],
   "source": [
    "SimplifyPresentation(P);"
   ]
  },
  {
   "cell_type": "code",
   "execution_count": 21,
   "id": "44c80847",
   "metadata": {},
   "outputs": [],
   "source": [
    "gg:=GeneratorsOfPresentation(P);;\n",
    "AddRelator(P,gg[7]);\n",
    "AddRelator(P,gg[4]*gg[6]^-1);\n",
    "for j in [1,2,3,5] do \n",
    "    AddRelator(P,gg[1]*gg[j]); \n",
    "od;"
   ]
  },
  {
   "cell_type": "code",
   "execution_count": 22,
   "id": "2a34a4f1",
   "metadata": {},
   "outputs": [
    {
     "name": "stdout",
     "output_type": "stream",
     "text": [
      "#I  there are 2 generators and 1 relator of total length 2\n"
     ]
    }
   ],
   "source": [
    "SimplifyPresentation(P);"
   ]
  },
  {
   "cell_type": "code",
   "execution_count": 23,
   "id": "908bb995",
   "metadata": {},
   "outputs": [
    {
     "name": "stdout",
     "output_type": "stream",
     "text": [
      "#I  generators: [ _x1, _x5 ]\n",
      "#I  relators:\n",
      "#I  1.  2  [ 1, 1 ]\n"
     ]
    }
   ],
   "source": [
    "TzPrint(P);"
   ]
  },
  {
   "cell_type": "markdown",
   "id": "f465b6c2",
   "metadata": {},
   "source": [
    "The kernel of a representation $G_3\\to A_5$ has the large group $\\mathbb Z_2\\ast \\mathbb Z$ as a homomorphic image."
   ]
  },
  {
   "cell_type": "markdown",
   "id": "84b3306f",
   "metadata": {},
   "source": [
    "### Verification that $G_7$ is large"
   ]
  },
  {
   "cell_type": "code",
   "execution_count": 30,
   "id": "04ccd3c7",
   "metadata": {},
   "outputs": [
    {
     "data": {
      "text/plain": [
       "<presentation with 11 gens and 30 rels of total length 242>"
      ]
     },
     "execution_count": 30,
     "metadata": {
      "text/plain": ""
     },
     "output_type": "execute_result"
    }
   ],
   "source": [
    "F:=FreeGroup([\"a\",\"b\"]);; a:=F.1;; b:=F.2;;\n",
    "W:=(a*b)^4*(a*b^2)^2*a*b*a*b^2*a*b*(a*b^2)^2;;\n",
    "G:=F/[a^2,b^3,W^2];;\n",
    "H:=Subgroup(G,[(G.1*G.2)^5]);;\n",
    "Q:=PresentationNormalClosure(G,H);"
   ]
  },
  {
   "cell_type": "code",
   "execution_count": 31,
   "id": "7d287496",
   "metadata": {},
   "outputs": [
    {
     "name": "stdout",
     "output_type": "stream",
     "text": [
      "#I  there are 7 generators and 26 relators of total length 438\n",
      "#I  there are 7 generators and 26 relators of total length 432\n"
     ]
    }
   ],
   "source": [
    "SimplifyPresentation(Q);"
   ]
  },
  {
   "cell_type": "code",
   "execution_count": 32,
   "id": "b28eded1",
   "metadata": {},
   "outputs": [
    {
     "data": {
      "text/plain": [
       "[ _x1, _x3, _x4, _x6, _x8, _x10, _x11 ]"
      ]
     },
     "execution_count": 32,
     "metadata": {
      "text/plain": ""
     },
     "output_type": "execute_result"
    }
   ],
   "source": [
    "gg:=GeneratorsOfPresentation(Q);"
   ]
  },
  {
   "cell_type": "code",
   "execution_count": 38,
   "id": "f3e2ec3f",
   "metadata": {},
   "outputs": [
    {
     "name": "stdout",
     "output_type": "stream",
     "text": [
      "#I  there are 2 generators and 1 relator of total length 6\n"
     ]
    },
    {
     "data": {
      "text/plain": [
       "<presentation with 3 gens and 2 rels of total length 8>"
      ]
     },
     "execution_count": 38,
     "metadata": {
      "text/plain": ""
     },
     "output_type": "execute_result"
    }
   ],
   "source": [
    "AddRelator(Q,gg[3]*gg[6]);\n",
    "for j in [1,2,5,7] do \n",
    "    AddRelator(Q,gg[j]); \n",
    "od;\n",
    "SimplifyPresentation(Q);\n",
    "K:=FpGroupPresentation(Q);;\n",
    "N:=Subgroup(K,[K.1,K.2^2]);;\n",
    "P:=PresentationNormalClosure(K,N);"
   ]
  },
  {
   "cell_type": "code",
   "execution_count": 39,
   "id": "1ff55ec2",
   "metadata": {},
   "outputs": [
    {
     "data": {
      "text/plain": [
       "[ _x1, _x2, _x3 ]"
      ]
     },
     "execution_count": 39,
     "metadata": {
      "text/plain": ""
     },
     "output_type": "execute_result"
    }
   ],
   "source": [
    "hh:=GeneratorsOfPresentation(P);"
   ]
  },
  {
   "cell_type": "code",
   "execution_count": 40,
   "id": "25dd673c",
   "metadata": {},
   "outputs": [],
   "source": [
    "AddRelator(P,hh[2]);"
   ]
  },
  {
   "cell_type": "code",
   "execution_count": 41,
   "id": "3ad9985b",
   "metadata": {},
   "outputs": [
    {
     "name": "stdout",
     "output_type": "stream",
     "text": [
      "#I  there are 2 generators and 0 relators of total length 0\n"
     ]
    }
   ],
   "source": [
    "SimplifyPresentation(P);"
   ]
  },
  {
   "cell_type": "markdown",
   "id": "a7757a4e",
   "metadata": {},
   "source": [
    "The free group presented by `P` is a homomorphic image of a subgroup of index 120 in $G_7$.  Hence $G_7$ is large."
   ]
  },
  {
   "cell_type": "markdown",
   "id": "f2c9eb2a",
   "metadata": {},
   "source": [
    "### Verification that $G_{29}$ is large"
   ]
  },
  {
   "cell_type": "code",
   "execution_count": 50,
   "id": "0293fac6",
   "metadata": {},
   "outputs": [
    {
     "data": {
      "text/plain": [
       "<presentation with 11 gens and 30 rels of total length 550>"
      ]
     },
     "execution_count": 50,
     "metadata": {
      "text/plain": ""
     },
     "output_type": "execute_result"
    }
   ],
   "source": [
    "F:=FreeGroup([\"x\",\"y\"]);; x:=F.1;; y:=F.2;;\n",
    "U:=x*y;; V:=x*y^2;;\n",
    "W:=U^4*V^4*U^2*V^3*U*V^2*U^3*V^3*U^2*V;;\n",
    "G:=F/[x^2,y^3,W^2];;\n",
    "H:=Subgroup(G,[(G.1*G.2)^5]);;\n",
    "P:=PresentationNormalClosure(G,H);"
   ]
  },
  {
   "cell_type": "code",
   "execution_count": 53,
   "id": "cfc86d6d",
   "metadata": {},
   "outputs": [
    {
     "name": "stdout",
     "output_type": "stream",
     "text": [
      "#I  there are 2 generators and 0 relators of total length 0\n"
     ]
    }
   ],
   "source": [
    "gg:=GeneratorsOfPresentation(P);;\n",
    "for j in [2,4,6,8,9] do\n",
    "    AddRelator(P,gg[j]); \n",
    "od;\n",
    "SimplifyPresentation(P);"
   ]
  },
  {
   "cell_type": "markdown",
   "id": "9e063749",
   "metadata": {},
   "source": [
    "The kernel of a representation $G_{29}\\to A_5$ has the free group of rank $2$ as a homomorphic image."
   ]
  },
  {
   "cell_type": "markdown",
   "id": "c2f7e378",
   "metadata": {},
   "source": [
    "### Details of proof of Lemma 4"
   ]
  },
  {
   "cell_type": "markdown",
   "id": "8c2eeaa5",
   "metadata": {},
   "source": [
    "Proof that $\\langle x,y \\mid x^3 = y^3 = xyxy^2xy^2x^2yxyx^2yx^2y^2 = 1 \\rangle$ contains a nonabelian free subgroup, using the Levai-Rosenberger-Souvignier representation."
   ]
  },
  {
   "cell_type": "code",
   "execution_count": 63,
   "id": "09202f72",
   "metadata": {},
   "outputs": [],
   "source": [
    "R:=UnivariatePolynomialRing(Rationals,\"t\");;\n",
    "t:=IndeterminatesOfPolynomialRing(R)[1];;\n",
    "a:=-3*t^4+8*t;;\n",
    "b:=-4*t^4+11*t;;\n",
    "c:=2*t^3-6;;\n",
    "d:=-5*t^5+14*t^2;;\n",
    "e:=-7*t^5+19*t^2;;\n",
    "f:=t^6-3*t^3+1;;\n",
    "x:=[[a,b,c],[0,0,1],[d,e,-a]];;\n",
    "y:=[[d,e,-a],[3*(b*t-d),-d,-c*t],[1,0,0]];; "
   ]
  },
  {
   "cell_type": "markdown",
   "id": "c1ba9232",
   "metadata": {},
   "source": [
    "Representation modulo $f$, i.e. $$G' -> GL(V)=GL(3,K)$$ with $|K,Q|=6$.\n",
    "\n",
    "Next check the relators:"
   ]
  },
  {
   "cell_type": "code",
   "execution_count": 64,
   "id": "b235a24a",
   "metadata": {},
   "outputs": [
    {
     "data": {
      "text/plain": [
       "[ [ 1, 0, 0 ], [ 0, 1, 0 ], [ 0, 0, 1 ] ]"
      ]
     },
     "execution_count": 64,
     "metadata": {
      "text/plain": ""
     },
     "output_type": "execute_result"
    }
   ],
   "source": [
    "x^3 mod f;"
   ]
  },
  {
   "cell_type": "code",
   "execution_count": 65,
   "id": "d6ea429c",
   "metadata": {},
   "outputs": [
    {
     "data": {
      "text/plain": [
       "[ [ 1, 0, 0 ], [ 0, 1, 0 ], [ 0, 0, 1 ] ]"
      ]
     },
     "execution_count": 65,
     "metadata": {
      "text/plain": ""
     },
     "output_type": "execute_result"
    }
   ],
   "source": [
    "y^3 mod f;"
   ]
  },
  {
   "cell_type": "code",
   "execution_count": 66,
   "id": "cd200435",
   "metadata": {},
   "outputs": [
    {
     "data": {
      "text/plain": [
       "[ [ 1, 0, 0 ], [ 0, 1, 0 ], [ 0, 0, 1 ] ]"
      ]
     },
     "execution_count": 66,
     "metadata": {
      "text/plain": ""
     },
     "output_type": "execute_result"
    }
   ],
   "source": [
    "Id := x*y*x*y^2*x*y^2*x^2*y*x*y*x^2*y*x^2*y^2 mod f; "
   ]
  },
  {
   "cell_type": "markdown",
   "id": "94e0145c",
   "metadata": {},
   "source": [
    "\n",
    "`Id` is an identity matrix"
   ]
  },
  {
   "cell_type": "code",
   "execution_count": 67,
   "id": "ff2b01a5",
   "metadata": {},
   "outputs": [
    {
     "data": {
      "text/plain": [
       "[ [ -2, -1, -t^5+3*t^2 ], [ 1, 0, 0 ], [ 0, 0, 1 ] ]"
      ]
     },
     "execution_count": 67,
     "metadata": {
      "text/plain": ""
     },
     "output_type": "execute_result"
    }
   ],
   "source": [
    "m:=x*y mod f; "
   ]
  },
  {
   "cell_type": "markdown",
   "id": "0fc6454d",
   "metadata": {},
   "source": [
    "Clearly $det(m)=1$ and $tr(m)= -1$. In fact `m` has eigenvalues +1, -1, -1:"
   ]
  },
  {
   "cell_type": "code",
   "execution_count": 68,
   "id": "8da8836e",
   "metadata": {},
   "outputs": [
    {
     "data": {
      "text/plain": [
       "2"
      ]
     },
     "execution_count": 68,
     "metadata": {
      "text/plain": ""
     },
     "output_type": "execute_result"
    }
   ],
   "source": [
    " Rank(m-Id);"
   ]
  },
  {
   "cell_type": "code",
   "execution_count": 69,
   "id": "fe9bc6a1",
   "metadata": {},
   "outputs": [
    {
     "data": {
      "text/plain": [
       "2"
      ]
     },
     "execution_count": 69,
     "metadata": {
      "text/plain": ""
     },
     "output_type": "execute_result"
    }
   ],
   "source": [
    "Rank(m+Id);"
   ]
  },
  {
   "cell_type": "markdown",
   "id": "a75662b0",
   "metadata": {},
   "source": [
    "and the -1 eigenspace is 1-dimensional, hence $m^2$ is nontrivial parabolic (this is the L-R-S proof that the group is infinite).\n",
    "\n",
    "Next find eigenvectors:"
   ]
  },
  {
   "cell_type": "code",
   "execution_count": 71,
   "id": "55a3a170",
   "metadata": {},
   "outputs": [],
   "source": [
    "ev1:=[[1],[1],[4*t]];;\n",
    "ev2:=[[1],[-1],[0]];;"
   ]
  },
  {
   "cell_type": "code",
   "execution_count": 72,
   "id": "e04afa6a",
   "metadata": {},
   "outputs": [
    {
     "data": {
      "text/plain": [
       "[ [ 1 ], [ 1 ], [ 4*t ] ]"
      ]
     },
     "execution_count": 72,
     "metadata": {
      "text/plain": ""
     },
     "output_type": "execute_result"
    }
   ],
   "source": [
    "m*ev1 mod f;"
   ]
  },
  {
   "cell_type": "code",
   "execution_count": 73,
   "id": "dc692c3b",
   "metadata": {},
   "outputs": [
    {
     "data": {
      "text/plain": [
       "[ [ -1 ], [ 1 ], [ 0 ] ]"
      ]
     },
     "execution_count": 73,
     "metadata": {
      "text/plain": ""
     },
     "output_type": "execute_result"
    }
   ],
   "source": [
    "m*ev2 mod f;"
   ]
  },
  {
   "cell_type": "markdown",
   "id": "2a3caeac",
   "metadata": {},
   "source": [
    "Defining equation for the span $P$ of the eigenvectors"
   ]
  },
  {
   "cell_type": "code",
   "execution_count": 74,
   "id": "27757452",
   "metadata": {},
   "outputs": [],
   "source": [
    "q:=[2*t,2*t,-1];;"
   ]
  },
  {
   "cell_type": "code",
   "execution_count": 75,
   "id": "ee5b5321",
   "metadata": {},
   "outputs": [
    {
     "data": {
      "text/plain": [
       "[ 0 ]"
      ]
     },
     "execution_count": 75,
     "metadata": {
      "text/plain": ""
     },
     "output_type": "execute_result"
    }
   ],
   "source": [
    "q*ev1;"
   ]
  },
  {
   "cell_type": "code",
   "execution_count": 76,
   "id": "78c23741",
   "metadata": {},
   "outputs": [
    {
     "data": {
      "text/plain": [
       "[ 0 ]"
      ]
     },
     "execution_count": 76,
     "metadata": {
      "text/plain": ""
     },
     "output_type": "execute_result"
    }
   ],
   "source": [
    "q*ev2;"
   ]
  },
  {
   "cell_type": "markdown",
   "id": "726a8a71",
   "metadata": {},
   "source": [
    "Now construct a conjugate of $m$"
   ]
  },
  {
   "cell_type": "code",
   "execution_count": 77,
   "id": "fd15f3d3",
   "metadata": {},
   "outputs": [],
   "source": [
    "n:=y*x mod f;;"
   ]
  },
  {
   "cell_type": "markdown",
   "id": "594ee5ef",
   "metadata": {},
   "source": [
    "$n$ also has eigenvalues +1,-1,-1, with 1-dimensional (-1)-eigenspace we check that the plane $P'$ spanned by its eigenvectors does not coincide with the span $P$ of the eigenvectors of $m$. To do this, show that $P$ is not invariant under $n$"
   ]
  },
  {
   "cell_type": "code",
   "execution_count": 78,
   "id": "91a87ee8",
   "metadata": {},
   "outputs": [
    {
     "data": {
      "text/plain": [
       "[ t^4+t ]"
      ]
     },
     "execution_count": 78,
     "metadata": {
      "text/plain": ""
     },
     "output_type": "execute_result"
    }
   ],
   "source": [
    "q*n*ev1 mod f;"
   ]
  },
  {
   "cell_type": "code",
   "execution_count": 79,
   "id": "472b1973",
   "metadata": {},
   "outputs": [
    {
     "data": {
      "text/plain": [
       "[ t^4-t ]"
      ]
     },
     "execution_count": 79,
     "metadata": {
      "text/plain": ""
     },
     "output_type": "execute_result"
    }
   ],
   "source": [
    "q*n*ev2 mod f;"
   ]
  },
  {
   "cell_type": "markdown",
   "id": "2b3ea191",
   "metadata": {},
   "source": [
    "Thus $P$ and $P'$ are distinct, so intersect in a line $L$. Next, $m^2$ and $n^2$ fix $L$. They act on the quotient $V/L$ as parabolics with distinct fixed spaces, so they generate a non-elementary subgroup of $PSL(2,C)$."
   ]
  }
 ],
 "metadata": {
  "kernelspec": {
   "display_name": "GAP 4",
   "language": "gap",
   "name": "gap-4"
  },
  "language_info": {
   "codemirror_mode": "gap",
   "file_extension": ".g",
   "mimetype": "text/x-gap",
   "name": "GAP 4",
   "nbconvert_exporter": "",
   "pygments_lexer": "gap",
   "version": "4.12.2"
  }
 },
 "nbformat": 4,
 "nbformat_minor": 5
}
